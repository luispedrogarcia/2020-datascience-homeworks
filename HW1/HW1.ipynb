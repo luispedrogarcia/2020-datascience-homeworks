{
 "cells": [
  {
   "cell_type": "markdown",
   "metadata": {},
   "source": [
    "# Introduction to Data Science – Homework 1\n",
    "*COMP 5360 / MATH 4100, University of Utah, http://datasciencecourse.net/*\n",
    "\n",
    "Due: Friday, Jannuary 17, 11:59pm.\n",
    "\n",
    "This homework is designed to practice the skills we learned in up until Lecture 3: working with loops, conditions, functions, and the built-in Python data structures. Make sure to go through the lecture again in case you have any troubles.\n",
    "\n",
    "**Note: You may not use higher-level library functions but should implement everything using functions, loops, and conditions.**"
   ]
  },
  {
   "cell_type": "markdown",
   "metadata": {},
   "source": [
    "## Your Data\n",
    "Fill out the following information: \n",
    "\n",
    "*First Name:Luis   \n",
    "*Last Name:Garcia   \n",
    "*E-mail:luis.garcia@utah.edu   \n",
    "*UID:* 1269715\n"
   ]
  },
  {
   "cell_type": "markdown",
   "metadata": {},
   "source": [
    "## Problem 1: Largest Element\n",
    "\n",
    "Write a function that returns the largest element in a list."
   ]
  },
  {
   "cell_type": "code",
   "execution_count": 1,
   "metadata": {},
   "outputs": [],
   "source": [
    "# ----function----#\n",
    "def largest_func(listing):\n",
    "    # biggest number so far by default\n",
    "    default = -1     \n",
    "    for nums in listing: # for everything number within the list\n",
    "        if nums > default: # if its bigger than default value\n",
    "            default = nums # make that default to the bigger number\n",
    "    return  default        # when finished, return the value that \n",
    "                          # lasted longer as the bigger value.\n"
   ]
  },
  {
   "cell_type": "code",
   "execution_count": 2,
   "metadata": {},
   "outputs": [
    {
     "data": {
      "text/plain": [
       "133"
      ]
     },
     "execution_count": 2,
     "metadata": {},
     "output_type": "execute_result"
    }
   ],
   "source": [
    "largest_func([13, 25, 29, 17, 99, 133, -12, 0, 18])\n"
   ]
  },
  {
   "cell_type": "markdown",
   "metadata": {},
   "source": [
    "## Problem 2: Reverse List\n",
    "\n",
    "Write a function `reverse` that takes a list as a parameter and reverses it."
   ]
  },
  {
   "cell_type": "code",
   "execution_count": 3,
   "metadata": {},
   "outputs": [],
   "source": [
    "# ---function\n",
    "\n",
    "def reverseList(a):\n",
    "    return a[::-1] # [::] this grabs everything and counts thre list backwards"
   ]
  },
  {
   "cell_type": "code",
   "execution_count": 4,
   "metadata": {},
   "outputs": [
    {
     "name": "stdout",
     "output_type": "stream",
     "text": [
      "[5, 4, 3, 2, 1]\n",
      "['George', 'Ringo', 'Paul', 'John']\n",
      "['Paul', 'John', 3, 2, 1]\n"
     ]
    }
   ],
   "source": [
    "# call your function with a couple of different lists and print the results here\n",
    "print(reverseList([1, 2 ,3 ,4 ,5]))\n",
    "print(reverseList([\"John\", \"Paul\", \"Ringo\", \"George\"]))\n",
    "print(reverseList([1, 2 ,3 ,\"John\", \"Paul\"]))"
   ]
  },
  {
   "cell_type": "markdown",
   "metadata": {},
   "source": [
    "\n",
    "Problem 3: Combining List\n",
    "Write a function that combines two lists by alternatingly taking elements, e.g. [a,b,c], [1,2,3] → [a,1,b,2,c,3]."
   ]
  },
  {
   "cell_type": "code",
   "execution_count": null,
   "metadata": {},
   "outputs": [],
   "source": []
  },
  {
   "cell_type": "code",
   "execution_count": 5,
   "metadata": {},
   "outputs": [],
   "source": [
    "# your code\n",
    "def combineL(a,b):\n",
    "    result = [None] * (len(a) + len(b))   # Create variable of a list that includes the combined length of a and b.\n",
    "    result[::2] = a                       # result of slicing by skipping every other value\n",
    "    result[1::2] = b                      # result of slicing by extending \n",
    "    return result"
   ]
  },
  {
   "cell_type": "code",
   "execution_count": 6,
   "metadata": {},
   "outputs": [
    {
     "data": {
      "text/plain": [
       "['a', 1, 'b', 2, 'c', 3]"
      ]
     },
     "execution_count": 6,
     "metadata": {},
     "output_type": "execute_result"
    }
   ],
   "source": [
    "combineL(['a','b','c'], [1,2,3])"
   ]
  },
  {
   "cell_type": "code",
   "execution_count": null,
   "metadata": {},
   "outputs": [],
   "source": []
  },
  {
   "cell_type": "markdown",
   "metadata": {},
   "source": [
    "## Problem 4: Numbers to Digits\n",
    "\n",
    "Write a function `num_to_digits` that takes a number and returns a list of its digits."
   ]
  },
  {
   "cell_type": "code",
   "execution_count": 7,
   "metadata": {},
   "outputs": [],
   "source": [
    "# your function goes here\n",
    "\n",
    "\n",
    "def num_to_digits(num):\n",
    "    str(num)   # printing number as string\n",
    "    list = [int(x) for x in str(num)]   # using list comprension\n",
    "    return str(list) "
   ]
  },
  {
   "cell_type": "code",
   "execution_count": 8,
   "metadata": {},
   "outputs": [
    {
     "name": "stdout",
     "output_type": "stream",
     "text": [
      "[7, 8, 9, 4, 5, 6]\n",
      "[1, 2, 3, 9, 7, 1, 0, 9, 4, 7, 0, 9, 1, 8, 2, 3, 0, 9, 1, 8, 2, 3]\n"
     ]
    }
   ],
   "source": [
    "# call your function with a couple of different lists and print the results here\n",
    "print(num_to_digits(789456))\n",
    "print(num_to_digits(1239710947091823091823))"
   ]
  },
  {
   "cell_type": "markdown",
   "metadata": {},
   "source": [
    "## Problem 5: Sums\n",
    "\n",
    "Write three functions that compute the sum of the numbers in a list. The first function should use a for-loop, the second a while-loop and the third should use recursion."
   ]
  },
  {
   "cell_type": "code",
   "execution_count": 9,
   "metadata": {},
   "outputs": [],
   "source": [
    "#---FUNCTIONS---#\n",
    "\n",
    "# 1st function\n",
    "\n",
    "def firstFunc(a):\n",
    "    for list in a:\n",
    "        empty = []\n",
    "        empty.append(list)\n",
    "    results= sum(a)\n",
    "    return results\n",
    "\n",
    "# 2nd function\n",
    "  \n",
    "# Iterate each element in list \n",
    "# and add them in variale total \n",
    "def secFunc(list1):\n",
    "    runtot = 0\n",
    "    element = 0\n",
    "    while(element < len(list1)): \n",
    "        runtot = runtot + list1[element] # running total gets added with the values from the list\n",
    "        element += 1\n",
    "    return runtot\n",
    " \n",
    "# 3rd function\n",
    "# recursion function\n",
    "\n",
    "def thirdFunc(c):\n",
    "    if not c:\n",
    "        return 0\n",
    "    return c[0] + thirdFunc(c[1:])"
   ]
  },
  {
   "cell_type": "code",
   "execution_count": null,
   "metadata": {},
   "outputs": [],
   "source": []
  },
  {
   "cell_type": "code",
   "execution_count": 10,
   "metadata": {},
   "outputs": [
    {
     "name": "stdout",
     "output_type": "stream",
     "text": [
      "List 1 is :  55\n",
      "List 2 is :  52\n",
      "List 3 is :  37\n",
      "List 4 is :  6\n",
      "List 5 is :  37\n"
     ]
    }
   ],
   "source": [
    "# call your functions with a couple of different lists and print the results here\n",
    "list1 = print(\"List 1 is : \", str(firstFunc(range(11))))\n",
    "list2 = print(\"List 2 is : \", firstFunc([1, 2, 3, 9, 7, 1, 0, 9, 4, 7, 0, 9]))\n",
    "list3 = print(\"List 3 is : \", firstFunc([1, 8, 2, 3, 0, 9, 1, 8, 2, 3]))\n",
    "list4 = print(\"List 4 is : \", secFunc([1,2,3]))\n",
    "list5 = print(\"List 5 is : \", thirdFunc([1, 8, 2, 3, 0, 9, 1, 8, 2, 3]))\n",
    "                                         "
   ]
  },
  {
   "cell_type": "markdown",
   "metadata": {},
   "source": [
    "## Problem 6: Fibonacchi Sequence\n",
    "\n",
    "Write a function that takes a number `n` and an empty array that writes the first `n` numbers of the [Fibonacchi Sequence](https://en.wikipedia.org/wiki/Fibonacci_number) into the empty array. Print the array. \n",
    "\n",
    "The Fibonnachi Sequnece is the sequence where every number after the first two is the sum of the previous two numbers, i.e.,\n",
    "\n",
    "1, 1, 2, 3, 5, 8, 13, 21, 34, 55, ..."
   ]
  },
  {
   "cell_type": "code",
   "execution_count": null,
   "metadata": {},
   "outputs": [],
   "source": []
  },
  {
   "cell_type": "code",
   "execution_count": 11,
   "metadata": {},
   "outputs": [],
   "source": [
    "def fibonnachi(n, seq):\n",
    "    zero = 0  \n",
    "    adding = 1 # variable used for adding purposes\n",
    "    count = 0  # variable used for counting purposes\n",
    "# check if the number of terms is valid\n",
    "    if n <= 0:\n",
    "        print(\"Please enter a positive integer\")\n",
    "    elif n == 1:\n",
    "        print(zero)\n",
    "    else:\n",
    "        print(\"Fibonacci sequence:\")\n",
    "    while count < n:            # while 0 is less than all positive values\n",
    "        print(zero)             # print zero\n",
    "        fibTerm = zero + adding # create a variable that is the output of zero plus 'adding', which is 1 in the first time          \n",
    "        zero = adding           # update zero to 'adding', which is 1 in first time\n",
    "        adding = fibTerm        # update 'adding', which was 1 first time, to the output from adding 'zero' and 'adding'.\n",
    "        count += 1              # update count to one\n"
   ]
  },
  {
   "cell_type": "code",
   "execution_count": 12,
   "metadata": {},
   "outputs": [
    {
     "name": "stdout",
     "output_type": "stream",
     "text": [
      "Fibonacci sequence:\n",
      "0\n",
      "1\n",
      "1\n",
      "2\n",
      "3\n",
      "5\n",
      "8\n",
      "13\n",
      "21\n",
      "34\n",
      "55\n",
      "89\n",
      "[]\n"
     ]
    }
   ],
   "source": [
    "# call your function with a couple of different n and print the results here\n",
    "sequence = []\n",
    "fibonnachi(12, sequence)\n",
    "print(sequence)  "
   ]
  },
  {
   "cell_type": "code",
   "execution_count": null,
   "metadata": {},
   "outputs": [],
   "source": []
  },
  {
   "cell_type": "markdown",
   "metadata": {},
   "source": [
    "## Problem 7: Rainfall\n",
    "\n",
    "Write a function called `rainfall` that reads a list of numbers representing daily rainfall amounts. The list may contain the number `-999` indicating the end of the data of interest. Produce the average of the **non-negative** values in the list up to the first `-999` (if it shows up). There may be negative numbers other than -999 in the list.\n",
    "\n",
    "We provide several different test arrays below, but your code should work with arbitrary arrays."
   ]
  },
  {
   "cell_type": "code",
   "execution_count": 13,
   "metadata": {},
   "outputs": [],
   "source": [
    "rainfall_one = [16, 19, 22, 41, -999, 199, 254]\n",
    "rainfall_two = [33, 24, 10, -2, -99, 0, 15, 82, -1325, 15]\n",
    "rainfall_three = [2, 2, -999, 10]\n",
    "rainfall_four = [-999, 2, 5, -19, 16]\n",
    "rainfall_five = []"
   ]
  },
  {
   "cell_type": "code",
   "execution_count": null,
   "metadata": {},
   "outputs": [],
   "source": []
  },
  {
   "cell_type": "code",
   "execution_count": 14,
   "metadata": {},
   "outputs": [],
   "source": [
    "# your function goes here\n",
    "\n",
    "def rainfall(data):\n",
    "    if (not data):               # if no data exist in list, return 'empty'\n",
    "        return (\"empty\")         \n",
    "    elif (data[0] == -999):      # if the first index position of the list is -999, break\n",
    "        return (\"break\") \n",
    "    else:                                             # Anything outside of those 2 conditions from above, run the following\n",
    "        avg = [] # empty list                         # create an empty list                               \n",
    "        for nums in data:                             # for every number that comes within function                                 \n",
    "            if (nums >=0):                               # if its greater than 0:                                \n",
    "                avg.append(nums)                             # append it to defined empty list from above                         \n",
    "                sum(avg)/len(avg)                            # then grab average from the numbers that are in the list\n",
    "            elif (nums != -999 & nums < 0 ):             # if it does not equal -999, and its below 0:\n",
    "                sum(avg)/len(avg)                            # grab average from numbers that are in the list\n",
    "            else:                                        # anything outside of those 2 if statements from above, calculate avg\n",
    "                return sum(avg)/len(avg)\n",
    "        return sum(avg)/len(avg)                      # return the average from that list\n",
    "            \n",
    "       \n",
    "    \n",
    "            "
   ]
  },
  {
   "cell_type": "code",
   "execution_count": 15,
   "metadata": {
    "scrolled": true
   },
   "outputs": [
    {
     "data": {
      "text/plain": [
       "24.5"
      ]
     },
     "execution_count": 15,
     "metadata": {},
     "output_type": "execute_result"
    }
   ],
   "source": [
    "# print the results for all the lists above here\n",
    "rainfall(rainfall_one)"
   ]
  },
  {
   "cell_type": "code",
   "execution_count": 16,
   "metadata": {},
   "outputs": [
    {
     "data": {
      "text/plain": [
       "25.571428571428573"
      ]
     },
     "execution_count": 16,
     "metadata": {},
     "output_type": "execute_result"
    }
   ],
   "source": [
    "rainfall(rainfall_two)"
   ]
  },
  {
   "cell_type": "code",
   "execution_count": 17,
   "metadata": {},
   "outputs": [
    {
     "data": {
      "text/plain": [
       "2.0"
      ]
     },
     "execution_count": 17,
     "metadata": {},
     "output_type": "execute_result"
    }
   ],
   "source": [
    "rainfall(rainfall_three)"
   ]
  },
  {
   "cell_type": "code",
   "execution_count": 18,
   "metadata": {},
   "outputs": [
    {
     "data": {
      "text/plain": [
       "'break'"
      ]
     },
     "execution_count": 18,
     "metadata": {},
     "output_type": "execute_result"
    }
   ],
   "source": [
    "rainfall(rainfall_four)"
   ]
  },
  {
   "cell_type": "code",
   "execution_count": 19,
   "metadata": {},
   "outputs": [
    {
     "data": {
      "text/plain": [
       "'empty'"
      ]
     },
     "execution_count": 19,
     "metadata": {},
     "output_type": "execute_result"
    }
   ],
   "source": [
    "rainfall(rainfall_five)"
   ]
  },
  {
   "cell_type": "code",
   "execution_count": null,
   "metadata": {},
   "outputs": [],
   "source": []
  },
  {
   "cell_type": "code",
   "execution_count": null,
   "metadata": {},
   "outputs": [],
   "source": []
  },
  {
   "cell_type": "code",
   "execution_count": null,
   "metadata": {},
   "outputs": [],
   "source": []
  },
  {
   "cell_type": "code",
   "execution_count": null,
   "metadata": {},
   "outputs": [],
   "source": []
  },
  {
   "cell_type": "code",
   "execution_count": null,
   "metadata": {},
   "outputs": [],
   "source": []
  },
  {
   "cell_type": "code",
   "execution_count": null,
   "metadata": {},
   "outputs": [],
   "source": []
  }
 ],
 "metadata": {
  "anaconda-cloud": {},
  "kernelspec": {
   "display_name": "Python 3",
   "language": "python",
   "name": "python3"
  },
  "language_info": {
   "codemirror_mode": {
    "name": "ipython",
    "version": 3
   },
   "file_extension": ".py",
   "mimetype": "text/x-python",
   "name": "python",
   "nbconvert_exporter": "python",
   "pygments_lexer": "ipython3",
   "version": "3.7.4"
  }
 },
 "nbformat": 4,
 "nbformat_minor": 1
}
