{
 "cells": [
  {
   "cell_type": "markdown",
   "metadata": {},
   "source": [
    "# Introduction to Data Science – Homework 2\n",
    "*COMP 5360 / MATH 4100, University of Utah, http://datasciencecourse.net/*\n",
    "\n",
    "Due: Friday, January 24, 11:59pm.\n",
    "\n",
    "This homework is designed to reinforce the skills we covered in the first two weeks: working with loops, conditions, functions, and the built-in Python data structures. We'll also calculate various descriptive statistics. Make sure to go through the lecture again in case you have any trouble."
   ]
  },
  {
   "cell_type": "markdown",
   "metadata": {},
   "source": [
    "## Your Data\n",
    "Fill out the following information: \n",
    "\n",
<<<<<<< HEAD
    "*First Name:Luis  \n",
    "*Last Name:* Garcia\n",
    "*E-mail:* luis.garcia@utah.edu\n",
    "*UID:* 1269715"
=======
    "*First Name:*   \n",
    "*Last Name:*   \n",
    "*E-mail:*   \n",
    "*UID:*  "
>>>>>>> f46ad7e245b0f1283dce3e5aed3b58a9252f9bd0
   ]
  },
  {
   "cell_type": "markdown",
   "metadata": {},
   "source": [
    "## Part 1: Vector data\n",
    "\n",
    "We first will work with a vector of monthly average temperatures for Snowbird, UT, which we downloaded from [NOAA](https://www.ncdc.noaa.gov/). The data is included in this repository in the file `snobwird.csv`.\n",
    "\n",
    "The data is stored in the CSV format, which is a simple textfile with 'Comma Separated Values'.\n",
    "To load the data into a (nested) python array, we use the [csv](https://docs.python.org/3/library/csv.html) library. The following code reads the file and stores it in a vector:"
   ]
  },
  {
   "cell_type": "code",
<<<<<<< HEAD
   "execution_count": 1,
   "metadata": {},
   "outputs": [],
   "source": [
    "import cmath\n",
    "from cmath import sqrt\n",
    "import numpy as np  \n",
    "import pandas as pd    #more known as storage container\n",
    "import matplotlib.pyplot as plt\n"
   ]
  },
  {
   "cell_type": "code",
   "execution_count": 2,
   "metadata": {},
   "outputs": [
    {
     "name": "stdout",
     "output_type": "stream",
     "text": [
      "['2010-01', '7.39', '27.5']\n",
      "['2010-02', '2.99', '23.8']\n",
      "['2010-03', '5.88', '29']\n",
      "['2010-04', '9.69', '33']\n",
      "['2010-05', '6.3', '37.2']\n",
      "['2010-06', '2.2', '51.5']\n",
      "['2010-07', '1', '61.7']\n",
      "['2010-08', '3.09', '58']\n",
      "['2010-09', '1.09', '54.1']\n",
      "['2010-10', '7.8', '42.4']\n",
      "['2010-11', '9.7', '27.2']\n",
      "['2010-12', '12.89', '27.7']\n",
      "['2011-01', '3.4', '23.7']\n",
      "['2011-02', '7.2', '22']\n",
      "['2011-03', '8.09', '28.5']\n",
      "['2011-04', '13.79', '30.4']\n",
      "['2011-05', '9.99', '38.6']\n",
      "['2011-06', '2.2', '50.1']\n",
      "['2011-07', '0.6', '60.4']\n",
      "['2011-08', '2.3', '62.2']\n",
      "['2011-09', '2.29', '53.8']\n",
      "['2011-10', '5.2', '40.7']\n",
      "['2011-11', '4.69', '28.9']\n",
      "['2011-12', '1.9', '26']\n",
      "['2012-01', '6.6', '27.4']\n",
      "['2012-02', '5.6', '23.4']\n",
      "['2012-03', '5.4', '34.1']\n",
      "['2012-04', '5.69', '38.4']\n",
      "['2012-05', '2.6', '44.8']\n",
      "['2012-06', '0', '56.3']\n",
      "['2012-07', '2.09', '62.3']\n",
      "['2012-08', '0.59', '62.8']\n",
      "['2012-09', '2.2', '53.8']\n",
      "['2012-10', '3.2', '41']\n",
      "['2012-11', '6.19', '35.3']\n",
      "['2012-12', '7.7', '22.5']\n",
      "['2013-01', '4.4', '23.7']\n",
      "['2013-02', '2.8', '21.8']\n",
      "['2013-03', '3.3', '31.2']\n",
      "['2013-04', '5.3', '32.3']\n",
      "['2013-05', '3.8', '44']\n",
      "['2013-06', '0', '56.6']\n",
      "['2013-07', '4.29', '62.9']\n",
      "['2013-08', '2.2', '60.9']\n",
      "['2013-09', '4.39', '50.4']\n",
      "['2013-10', '4.7', '37.7']\n",
      "['2013-11', '2', '33.9']\n",
      "['2013-12', '4.9', '22.6']\n",
      "['2014-01', '4.1', '27.2']\n",
      "['2014-02', '7.1', '26']\n",
      "['2014-03', '6.5', '31.1']\n",
      "['2014-04', '5', '34.9']\n",
      "['2014-05', '2.9', '45.6']\n",
      "['2014-06', '1.2', '52.4']\n",
      "['2014-07', '1', '63.5']\n",
      "['2014-08', '5', '56']\n",
      "['2014-09', '4.8', '53.8']\n",
      "['2014-10', '1.5', '44.8']\n",
      "['2014-11', '6.09', '30.8']\n",
      "['2014-12', '7.8', '27.1']\n",
      "['2015-01', '2.59', '31.5']\n",
      "['2015-02', '2.3', '31.4']\n",
      "['2015-03', '2.59', '36.6']\n",
      "['2015-04', '4.09', '36']\n",
      "['2015-05', '7.09', '42.6']\n",
      "['2015-06', '1', '59.6']\n",
      "['2015-07', '1.8', '58.4']\n",
      "['2015-08', '3.1', '59.9']\n",
      "['2015-09', '4', '55.2']\n",
      "['2015-10', '3.59', '45.2']\n",
      "['2015-11', '3.9', '27.6']\n",
      "['2015-12', '6.7', '22.8']\n",
      "['2016-01', '8.29', '25.1']\n",
      "['2016-02', '3.19', '30.4']\n",
      "['2016-03', '5.59', '31.7']\n",
      "['2016-04', '7.19', '38']\n",
      "['2016-05', '5.4', '42.8']\n",
      "['2016-06', '1.2', '59.2']\n",
      "['2016-07', '0', '62.9']\n",
      "['2016-08', '1.89', '60.4']\n",
      "[27.5, 23.8, 29.0, 33.0, 37.2, 51.5, 61.7, 58.0, 54.1, 42.4, 27.2, 27.7, 23.7, 22.0, 28.5, 30.4, 38.6, 50.1, 60.4, 62.2, 53.8, 40.7, 28.9, 26.0, 27.4, 23.4, 34.1, 38.4, 44.8, 56.3, 62.3, 62.8, 53.8, 41.0, 35.3, 22.5, 23.7, 21.8, 31.2, 32.3, 44.0, 56.6, 62.9, 60.9, 50.4, 37.7, 33.9, 22.6, 27.2, 26.0, 31.1, 34.9, 45.6, 52.4, 63.5, 56.0, 53.8, 44.8, 30.8, 27.1, 31.5, 31.4, 36.6, 36.0, 42.6, 59.6, 58.4, 59.9, 55.2, 45.2, 27.6, 22.8, 25.1, 30.4, 31.7, 38.0, 42.8, 59.2, 62.9, 60.4]\n",
      "[7.39, 2.99, 5.88, 9.69, 6.3, 2.2, 1.0, 3.09, 1.09, 7.8, 9.7, 12.89, 3.4, 7.2, 8.09, 13.79, 9.99, 2.2, 0.6, 2.3, 2.29, 5.2, 4.69, 1.9, 6.6, 5.6, 5.4, 5.69, 2.6, 0.0, 2.09, 0.59, 2.2, 3.2, 6.19, 7.7, 4.4, 2.8, 3.3, 5.3, 3.8, 0.0, 4.29, 2.2, 4.39, 4.7, 2.0, 4.9, 4.1, 7.1, 6.5, 5.0, 2.9, 1.2, 1.0, 5.0, 4.8, 1.5, 6.09, 7.8, 2.59, 2.3, 2.59, 4.09, 7.09, 1.0, 1.8, 3.1, 4.0, 3.59, 3.9, 6.7, 8.29, 3.19, 5.59, 7.19, 5.4, 1.2, 0.0, 1.89]\n"
     ]
    }
   ],
   "source": [
=======
   "execution_count": null,
   "metadata": {},
   "outputs": [],
   "source": [
>>>>>>> f46ad7e245b0f1283dce3e5aed3b58a9252f9bd0
    "# import the csv library\n",
    "import csv\n",
    "# import the math library we'll use later\n",
    "import math\n",
    "\n",
    "# initialize the array\n",
    "temperature_vector = []\n",
    "percipitation_vector = []\n",
    "\n",
    "# open the file and append the values of the last column to the array\n",
    "with open('snowbird.csv') as csvfile:\n",
<<<<<<< HEAD
    "    filereader = csv.reader(csvfile, delimiter=',', quotechar='|')  # delimterer by comma seperates by that\n",
=======
    "    filereader = csv.reader(csvfile, delimiter=',', quotechar='|')\n",
>>>>>>> f46ad7e245b0f1283dce3e5aed3b58a9252f9bd0
    "    # remove the first item as it is the title.\n",
    "    next(filereader)\n",
    "    for row in filereader:\n",
    "        print(row)\n",
    "        # here we append to the array and also cast from string to float\n",
    "        percipitation_vector.append(float(row[1]))\n",
    "        temperature_vector.append(float(row[2]))\n",
    "        \n",
    "# print the vector to see if it worked\n",
    "print (temperature_vector)\n",
    "print (percipitation_vector)"
   ]
  },
  {
   "cell_type": "markdown",
   "metadata": {},
   "source": [
    "We'll next use descriptive statistics to analyze the data in `temperature_vector`.\n",
    "\n",
    "In this problem, we'll do calculations that are also available in NumPy. For the purpose of this homework, however, **we want you to implement the solutions using standard python functionality and the math library, and then check your results using NumPy**. \n",
    "\n",
    "See the the [NumPy library](http://docs.scipy.org/doc/numpy-1.11.0/reference/routines.statistics.html) documentation and include the checks as a separate code cell. "
   ]
  },
  {
   "cell_type": "markdown",
   "metadata": {},
   "source": [
    "### Task 1.1: Calculate the Mean of a Vector\n",
    "\n",
    "Write a function that calculates and returns the [arithmetic mean](https://en.wikipedia.org/wiki/Arithmetic_mean) of a vector that you pass into it. \n",
    "\n",
    "Pass the temperature and percipitaton vector into this function and print the result. Provide a written interpretation of your results (e.g., \"The mean temperature for Snowbird is XXX degrees Fahrenheit. The mean percipitation is XXX inches.\")"
   ]
  },
  {
   "cell_type": "code",
<<<<<<< HEAD
   "execution_count": 81,
   "metadata": {},
   "outputs": [],
   "source": [
    "## your code goes here\n",
    "\n",
    "def precipMean(vector):\n",
    "    summ = 0 \n",
    "    for values in vector:\n",
    "        summ += values\n",
    "    return summ/len(vector)    \n",
    "    \n",
    "     \n",
    "    "
=======
   "execution_count": null,
   "metadata": {},
   "outputs": [],
   "source": [
    "## your code goes here"
>>>>>>> f46ad7e245b0f1283dce3e5aed3b58a9252f9bd0
   ]
  },
  {
   "cell_type": "code",
<<<<<<< HEAD
   "execution_count": 82,
   "metadata": {},
   "outputs": [
    {
     "name": "stdout",
     "output_type": "stream",
     "text": [
      "40.862500000000004\n",
      "4.376249999999997\n"
     ]
    }
   ],
   "source": [
    "print(precipMean(temperature_vector))\n",
    "print(precipMean(percipitation_vector))"
   ]
  },
  {
   "cell_type": "code",
   "execution_count": 83,
   "metadata": {},
   "outputs": [
    {
     "name": "stdout",
     "output_type": "stream",
     "text": [
      "40.8625\n",
      "4.376250000000001\n"
     ]
    }
   ],
=======
   "execution_count": null,
   "metadata": {},
   "outputs": [],
>>>>>>> f46ad7e245b0f1283dce3e5aed3b58a9252f9bd0
   "source": [
    "# Check results using NumPy\n",
    "\n",
    "import numpy as np\n",
    "print(np.mean(temperature_vector))\n",
    "print(np.mean(percipitation_vector))"
   ]
  },
  {
   "cell_type": "markdown",
   "metadata": {},
   "source": [
<<<<<<< HEAD
    "**Your Interpretation:** The mean temperature for Snowbird is 40.8625 degrees Fahrenheit, while the mean precipitation of the area is 4.37 inches."
=======
    "**Your Interpretation:** TODO"
>>>>>>> f46ad7e245b0f1283dce3e5aed3b58a9252f9bd0
   ]
  },
  {
   "cell_type": "markdown",
   "metadata": {},
   "source": [
    "### Task 1.2: Calculate the Median of a Vector\n",
    "Write a function that calculates and returns the [median](https://en.wikipedia.org/wiki/Median) of a vector. Pass the temperature vector into this function and print the result. Make sure that your function works for both vectors with an even and odd number of elements. In the case of an even number of elements, use the mean of the two middle values. Provide a written interpretation of your results.\n",
    "\n",
    "Hint: the [`sorted()`](https://docs.python.org/3/library/functions.html#sorted) function might be helpful for this."
   ]
  },
  {
   "cell_type": "code",
<<<<<<< HEAD
   "execution_count": 84,
   "metadata": {},
   "outputs": [],
   "source": [
    "def median(vector):\n",
    "    srt = sorted(vector)  # sort first\n",
    "    middle = len(vector)//2  # this allows to divide with only integers, which makes types consistent throughout code\n",
    "    if len(vector) % 2: # If list length mod 2 has a remainder the list is an odd lenght\n",
    "            return srt[middle]  # return the middle of the list since its odd\n",
    "    else:  # This means list is even\n",
    "        med = (srt[middle] + srt[middle-1]) / 2   # this grabs those two values and adds them and dvides them by 2 for mean\n",
    "        return med"
=======
   "execution_count": null,
   "metadata": {},
   "outputs": [],
   "source": [
    "## your code goes here"
>>>>>>> f46ad7e245b0f1283dce3e5aed3b58a9252f9bd0
   ]
  },
  {
   "cell_type": "code",
<<<<<<< HEAD
   "execution_count": 85,
   "metadata": {},
   "outputs": [
    {
     "name": "stdout",
     "output_type": "stream",
     "text": [
      "37.85\n",
      "4.045\n"
     ]
    }
   ],
   "source": [
    "print(median(temperature_vector))\n",
    "print(median(percipitation_vector))"
   ]
  },
  {
   "cell_type": "code",
   "execution_count": 86,
   "metadata": {},
   "outputs": [
    {
     "name": "stdout",
     "output_type": "stream",
     "text": [
      "37.85\n",
      "4.045\n"
     ]
    }
   ],
=======
   "execution_count": null,
   "metadata": {},
   "outputs": [],
>>>>>>> f46ad7e245b0f1283dce3e5aed3b58a9252f9bd0
   "source": [
    "# Check results using NumPy\n",
    "\n",
    "print(np.median(temperature_vector))\n",
    "print(np.median(percipitation_vector))"
   ]
  },
  {
   "cell_type": "markdown",
   "metadata": {},
   "source": [
<<<<<<< HEAD
    "**Your Interpretation:** The median temperature of the dataset is 37.85, while 4.045 for the precipitation dataset. "
=======
    "**Your Interpretation:** TODO"
>>>>>>> f46ad7e245b0f1283dce3e5aed3b58a9252f9bd0
   ]
  },
  {
   "cell_type": "markdown",
   "metadata": {},
   "source": [
    "### Task 1.3: Calculate the Standard Deviation of a Vector\n",
    "\n",
    "Write a function that calculates and returns the [standard deviation](https://en.wikipedia.org/wiki/Standard_deviation) of a vector. Pass the temperature and percipitation vectors into this function and print the result. Provide a written interpretation of your results. Is the standard deviation high? Why, Why not? \n",
    "\n",
    "The standard deviation is the square root of the average of the squared deviations from the mean, i.e.,\n",
    "\n",
    "$$\\sigma = \\sqrt{\\frac{1}{N} \\sum_{i=1}^{N} {{(x_i - \\mu)}^2} }$$\n",
    "\n",
    "where $\\mu$ is the mean of the vector. Hint: use your mean function to calculate it."
   ]
  },
  {
   "cell_type": "markdown",
   "metadata": {},
   "source": [
    "Hint: the `sqrt()` function from the [`math library`](https://docs.python.org/3/library/math.html) might be helpful for this. If you use a separate file you need to load the library as we did in Part 1 to read in the data. The import looks like this: `import math`"
   ]
  },
  {
   "cell_type": "code",
<<<<<<< HEAD
   "execution_count": 87,
   "metadata": {},
   "outputs": [],
   "source": [
    "## your code goes here\n",
    "\n",
    "def standardDev(vector):\n",
    "    #mean first\n",
    "    sum = 0\n",
    "    for values in vector:\n",
    "        sum+= values\n",
    "    mean = sum / len(vector)  \n",
    "    sqlist = []               \n",
    "    for num in vector:        \n",
    "        subtr = (num - mean)**2 \n",
    "        sqlist.append(subtr)\n",
    "    summing = 0                 \n",
    "    for s in sqlist:\n",
    "        summing += s\n",
    "    meanSTD = summing / len(sqlist)\n",
    "    return meanSTD**(1/2)\n",
    "    \n",
    "    \n"
   ]
  },
  {
   "cell_type": "code",
   "execution_count": 88,
   "metadata": {},
   "outputs": [
    {
     "name": "stdout",
     "output_type": "stream",
     "text": [
      "13.551876023267035\n",
      "2.8204345299084683\n"
     ]
    }
   ],
   "source": [
    "print(standardDev(temperature_vector))\n",
    "print(standardDev(percipitation_vector))"
=======
   "execution_count": null,
   "metadata": {},
   "outputs": [],
   "source": [
    "## your code goes here"
>>>>>>> f46ad7e245b0f1283dce3e5aed3b58a9252f9bd0
   ]
  },
  {
   "cell_type": "code",
<<<<<<< HEAD
   "execution_count": 89,
   "metadata": {},
   "outputs": [
    {
     "name": "stdout",
     "output_type": "stream",
     "text": [
      "13.551876023267036\n",
      "2.820434529908468\n"
     ]
    }
   ],
=======
   "execution_count": null,
   "metadata": {},
   "outputs": [],
>>>>>>> f46ad7e245b0f1283dce3e5aed3b58a9252f9bd0
   "source": [
    "# Check results using NumPy\n",
    "print(np.std(temperature_vector))\n",
    "print(np.std(percipitation_vector))"
   ]
  },
  {
   "cell_type": "markdown",
   "metadata": {},
   "source": [
<<<<<<< HEAD
    "**Your Interpretation:** The standard deviation of the vector dataset for temperature is 13.155 , while precipitation is 2.82."
=======
    "**Your Interpretation:** TODO"
>>>>>>> f46ad7e245b0f1283dce3e5aed3b58a9252f9bd0
   ]
  },
  {
   "cell_type": "markdown",
   "metadata": {},
   "source": [
    "### Task 1.4: Histogram\n",
    "\n",
    "Write a function that takes a vector and an integer `b` and calculates a [histogram](https://en.wikipedia.org/wiki/Histogram) with `b` bins. The function should return an array containing two arrays. The first should be the counts for each bin, the second should contain the borders of the bins.\n",
    "\n",
    "For `b=5` for the temperature vector, your output should look like this: \n",
    "\n",
    "`[[22, 20, 11, 8, 19], [21.8, 30.14, 38.480000000000004, 46.82, 55.16, 63.5]]`\n",
    "\n",
    "Here, the first array gives the size of these bins, the second defines the bands. That is, the first band from 21.8-30.14 has 22 entries, the second, from 30.14-38.48 has 20 entries, etc. \n",
    "\n",
    "\n",
    "Calculate the histogram for percipitation and temperature. Provide a written interpretation of your results. Comment on whether each histogram is skewed, and if so, in which direction."
   ]
  },
  {
   "cell_type": "code",
<<<<<<< HEAD
   "execution_count": 137,
   "metadata": {},
   "outputs": [],
   "source": [
    "def histogram(vector, bins):\n",
    "    bincont = []\n",
    "    hist = [0] * bins\n",
    "    minVal = min(vector)\n",
    "    maxVal = max(vector)\n",
    "    extraBit = .0000000000001\n",
    "    interval = (maxVal - minVal) + extraBit\n",
    "    for i in vector:\n",
    "        placement = (i - minVal) / interval\n",
    "        index = int(placement * bins)\n",
    "        hist[index] = hist[index] + 1\n",
    "\n",
    "    return hist\n",
    "    "
=======
   "execution_count": null,
   "metadata": {},
   "outputs": [],
   "source": [
    "## your code goes here"
>>>>>>> f46ad7e245b0f1283dce3e5aed3b58a9252f9bd0
   ]
  },
  {
   "cell_type": "code",
<<<<<<< HEAD
   "execution_count": 147,
   "metadata": {},
   "outputs": [
    {
     "name": "stdout",
     "output_type": "stream",
     "text": [
      "[27, 28, 19, 4, 2]\n",
      "[22, 20, 11, 8, 19]\n"
     ]
    }
   ],
   "source": [
    "print(histogram(percipitation_vector,5))\n",
    "print(histogram(temperature_vector,5))"
   ]
  },
  {
   "cell_type": "code",
   "execution_count": 15,
   "metadata": {},
   "outputs": [
    {
     "name": "stdout",
     "output_type": "stream",
     "text": [
      "(array([22, 20, 11,  8, 19], dtype=int64), array([21.8 , 30.14, 38.48, 46.82, 55.16, 63.5 ]))\n",
      "(array([27, 28, 19,  4,  2], dtype=int64), array([ 0.   ,  2.758,  5.516,  8.274, 11.032, 13.79 ]))\n"
     ]
    }
   ],
=======
   "execution_count": null,
   "metadata": {},
   "outputs": [],
>>>>>>> f46ad7e245b0f1283dce3e5aed3b58a9252f9bd0
   "source": [
    "# Check results using NumPy\n",
    "\n",
    "print(np.histogram(temperature_vector, bins = 5))\n",
    "print(np.histogram(percipitation_vector, bins = 5))"
   ]
  },
  {
   "cell_type": "markdown",
   "metadata": {},
   "source": [
<<<<<<< HEAD
    "**Your interpretation:** It seems as if the values vare descreasing drastically, which indicates skewness to one direction. "
=======
    "**Your interpretation:** TODO"
>>>>>>> f46ad7e245b0f1283dce3e5aed3b58a9252f9bd0
   ]
  },
  {
   "cell_type": "markdown",
   "metadata": {},
   "source": [
    "## Part 2: Working with Matrices"
   ]
  },
  {
   "cell_type": "markdown",
   "metadata": {},
   "source": [
    "For the second part of the homework, we are going to work with matrices. The [dataset we will use](https://www.wunderground.com/history/airport/KSLC/2015/1/1/CustomHistory.html?dayend=31&monthend=12&yearend=2015&req_city=&req_state=&req_statename=&reqdb.zip=&reqdb.magic=&reqdb.wmo=) contains different properties of the weather in Salt Lake City for 2015 (temperature, humidity, sea level, ...). It is stored in the file [`SLC_2015.csv`](SLC_2015.csv) in this repository."
   ]
  },
  {
   "cell_type": "markdown",
   "metadata": {},
   "source": [
    "We first read the data from the file and store it in a nested python array (`weather_matrix`). A nested python array is an array, where each element is an array itself. Here is a simple example: "
   ]
  },
  {
   "cell_type": "code",
<<<<<<< HEAD
   "execution_count": 16,
=======
   "execution_count": null,
>>>>>>> f46ad7e245b0f1283dce3e5aed3b58a9252f9bd0
   "metadata": {},
   "outputs": [],
   "source": [
    "arr1 = [1,2,3]\n",
    "arr2 = ['a', 'b', 'c']\n",
    "\n",
<<<<<<< HEAD
    "nestedArr = [arr1, arr2]\n"
=======
    "nestedArr = [arr1, arr2]\n",
    "nestedArr"
>>>>>>> f46ad7e245b0f1283dce3e5aed3b58a9252f9bd0
   ]
  },
  {
   "cell_type": "markdown",
   "metadata": {},
   "source": [
    "We provide you with the import code, which writes the data into the nested list `temperature_matrix`. The list contains one list for each month, which, in turn, contains the mean temperature of every day of that month. "
   ]
  },
  {
   "cell_type": "code",
<<<<<<< HEAD
   "execution_count": 17,
   "metadata": {},
   "outputs": [
    {
     "name": "stdout",
     "output_type": "stream",
     "text": [
      "[[15, 19, 26, 28, 37, 38, 38, 36, 35, 31, 39, 36, 35, 30, 31, 31, 37, 44, 40, 35, 31, 31, 31, 33, 42, 41, 44, 42, 36, 40, 39], [39, 49, 50, 50, 53, 57, 60, 53, 55, 45, 43, 47, 46, 48, 43, 40, 38, 44, 47, 44, 39, 33, 31, 35, 44, 35, 37, 36], [40, 37, 34, 33, 39, 43, 45, 45, 46, 50, 54, 50, 51, 56, 62, 63, 61, 53, 47, 53, 57, 54, 52, 47, 42, 48, 56, 62, 53, 57, 63], [46, 44, 44, 54, 60, 50, 52, 46, 49, 53, 58, 50, 57, 56, 33, 44, 50, 54, 56, 56, 60, 61, 61, 59, 51, 46, 50, 57, 65, 63], [63, 71, 68, 67, 62, 59, 58, 57, 49, 53, 59, 68, 65, 65, 53, 48, 56, 58, 55, 59, 58, 58, 55, 57, 62, 59, 61, 61, 64, 71, 76], [80, 68, 69, 68, 69, 70, 66, 73, 77, 78, 72, 74, 75, 76, 81, 77, 78, 83, 83, 78, 81, 78, 78, 83, 82, 84, 87, 88, 91, 89], [87, 87, 87, 89, 79, 79, 76, 75, 73, 72, 77, 79, 81, 77, 80, 80, 79, 74, 74, 73, 76, 77, 75, 78, 78, 84, 77, 66, 70, 76, 79], [80, 79, 69, 76, 82, 74, 76, 69, 72, 79, 83, 81, 83, 88, 83, 79, 77, 72, 74, 76, 81, 74, 76, 84, 85, 78, 77, 80, 85, 82, 75], [82, 83, 82, 80, 75, 60, 65, 66, 71, 73, 74, 76, 76, 74, 65, 57, 59, 56, 60, 65, 69, 71, 73, 72, 77, 79, 79, 74, 73, 77], [78, 64, 61, 62, 64, 65, 62, 65, 64, 69, 70, 64, 65, 67, 66, 66, 69, 66, 62, 56, 57, 55, 54, 57, 58, 58, 51, 49, 50, 45, 57], [61, 61, 53, 41, 39, 40, 40, 44, 51, 36, 40, 42, 41, 43, 48, 39, 32, 41, 42, 39, 34, 34, 35, 40, 45, 32, 28, 25, 25, 28], [29, 29, 32, 35, 36, 38, 37, 45, 51, 47, 37, 35, 36, 31, 26, 30, 23, 35, 41, 36, 38, 38, 31, 30, 23, 19, 17, 19, 21, 21, 12]]\n",
      "Mean temp on August 23: 76\n"
     ]
    }
   ],
   "source": [
    "# initialize the 12 arrays for the months\n",
    "temperature_matrix = [[] for i in range(12)] # for empty array in the range of 12 values\n",
    "\n",
    "# open the file and append the values of the last column to the array\n",
    "with open('SLC_2015.csv') as csvfile:   # open the file as csvFile since it is a csv file\n",
    "    filereader = csv.reader(csvfile, delimiter=',', quotechar='|') # read that has commas being seperate values\n",
    "    # get rid of the header  \n",
    "    next(filereader)    \n",
    "    for row in filereader:       # for every row in that header\n",
    "        month = int(row[0].split('/')[0])   # create a variable that makes the first row split by '/'and then converted into int\n",
    "        mean_temp = int(row[2])             #  crete a variable of the 3 row and put that as int.\n",
    "        temperature_matrix[month-1].append(mean_temp) # then use temperature_matrix empty list and utilize the last column to get appende\n",
    "                                                      # by appending from the line above\n",
=======
   "execution_count": null,
   "metadata": {},
   "outputs": [],
   "source": [
    "# initialize the 12 arrays for the months\n",
    "temperature_matrix = [[] for i in range(12)]\n",
    "\n",
    "# open the file and append the values of the last column to the array\n",
    "with open('SLC_2015.csv') as csvfile:\n",
    "    filereader = csv.reader(csvfile, delimiter=',', quotechar='|')\n",
    "    # get rid of the header\n",
    "    next(filereader)\n",
    "    for row in filereader:\n",
    "        month = int(row[0].split('/')[0])\n",
    "        mean_temp = int(row[2])\n",
    "        temperature_matrix[month-1].append(mean_temp)\n",
>>>>>>> f46ad7e245b0f1283dce3e5aed3b58a9252f9bd0
    "\n",
    "print(temperature_matrix)\n",
    "\n",
    "# the mean tempertarure on August 23. Note the index offset:\n",
    "print(\"Mean temp on August 23: \" + str(temperature_matrix[7][22]))"
   ]
  },
  {
   "cell_type": "markdown",
   "metadata": {},
   "source": [
    "We will next compute the same descriptive statistics as in Part 1 using the nested array `temperature_matrix`. \n",
    "\n",
    "In this problem, **we again want you to implement the solutions using standard python functionality and the math library**. We recommend you check your results using NumPy.\n",
    "\n",
    "**Note:** Since the lists in the matrix are of varying lengths (28 to 31 days) many of the standard NumPy functions won't work directly."
   ]
  },
  {
   "cell_type": "markdown",
   "metadata": {},
   "source": [
    "### Task 2.1: Calculates the mean of a whole matrix\n",
    "\n",
    "Write a function that calculates the mean of a matrix. For this version calculate the mean over all elements in the matrix as if it was one large vector. \n",
    "Pass in the matrix with the weather data and return the result. Provide a written interpretation of your results.\n",
    "Can you use your function from Part 1 and get a valid result?"
   ]
  },
  {
   "cell_type": "code",
<<<<<<< HEAD
   "execution_count": 18,
   "metadata": {},
   "outputs": [],
   "source": [
    "## your code goes here\n",
    "\n",
    "def weath_matrix (matrix):   \n",
    "    emtpyArr =[]           # Create an empty list called 'emptyArr'\n",
    "    for mat in matrix:     # for every list within this matrix\n",
    "        for arr in mat:    # Go within those seperate list (12 total lists withinn this matrix)\n",
    "            emtpyArr.append(arr) #Append each value within each list into the 'emptyArr'\n",
    "    return np.mean(emtpyArr)  # Return the mean once all of the values within all of the lists get appended to 'emptyArr'\n",
    "            \n",
    "\n",
    "    \n",
    "    \n",
    "    \n",
    "    \n",
    "    "
   ]
  },
  {
   "cell_type": "code",
   "execution_count": 19,
   "metadata": {},
   "outputs": [
    {
     "data": {
      "text/plain": [
       "56.76712328767123"
      ]
     },
     "execution_count": 19,
     "metadata": {},
     "output_type": "execute_result"
    }
   ],
   "source": [
    "\n",
    "weath_matrix(temperature_matrix)"
=======
   "execution_count": null,
   "metadata": {},
   "outputs": [],
   "source": [
    "## your code goes here"
>>>>>>> f46ad7e245b0f1283dce3e5aed3b58a9252f9bd0
   ]
  },
  {
   "cell_type": "code",
<<<<<<< HEAD
   "execution_count": 20,
   "metadata": {},
   "outputs": [
    {
     "data": {
      "text/plain": [
       "56.76712328767123"
      ]
     },
     "execution_count": 20,
     "metadata": {},
     "output_type": "execute_result"
    }
   ],
=======
   "execution_count": null,
   "metadata": {},
   "outputs": [],
>>>>>>> f46ad7e245b0f1283dce3e5aed3b58a9252f9bd0
   "source": [
    "# here we create a flat version of the matrix that works well for np checks\n",
    "flat_data = [i for x in temperature_matrix for i in x]\n",
    "np.mean(flat_data)"
   ]
  },
  {
   "cell_type": "markdown",
   "metadata": {},
   "source": [
<<<<<<< HEAD
    "**Your Interpretation:** For the entirety of the dataset, the average temperature for the whole year is 56.76 farenheit\n",
    " "
=======
    "**Your Interpretation:** TODO"
>>>>>>> f46ad7e245b0f1283dce3e5aed3b58a9252f9bd0
   ]
  },
  {
   "cell_type": "markdown",
   "metadata": {},
   "source": [
    "### Task 2.2:  Calculate the mean of each vector of a matrix\n",
    "\n",
    "Write a function that calculates the mean temperature of each month and returns an array with the means for each column. Provide a written interpretation of your results. Can you use the function you implemented in Part 1 here efficiently? If so, use it."
   ]
  },
  {
   "cell_type": "code",
<<<<<<< HEAD
   "execution_count": 21,
   "metadata": {},
   "outputs": [],
   "source": [
    "## your code goes here\n",
    "def tempMonth(month):\n",
    "    emtpyArr =[]\n",
    "    for mat in month:  \n",
    "        monthAvg = np.mean(mat)\n",
    "        emtpyArr.append(monthAvg)\n",
    "    return emtpyArr\n",
    "    "
   ]
  },
  {
   "cell_type": "code",
   "execution_count": 22,
   "metadata": {},
   "outputs": [
    {
     "data": {
      "text/plain": [
       "[34.54838709677419,\n",
       " 44.32142857142857,\n",
       " 50.096774193548384,\n",
       " 52.833333333333336,\n",
       " 60.483870967741936,\n",
       " 77.86666666666666,\n",
       " 77.87096774193549,\n",
       " 78.35483870967742,\n",
       " 71.43333333333334,\n",
       " 61.16129032258065,\n",
       " 39.96666666666667,\n",
       " 31.548387096774192]"
      ]
     },
     "execution_count": 22,
     "metadata": {},
     "output_type": "execute_result"
    }
   ],
   "source": [
    "tempMonth(temperature_matrix)"
=======
   "execution_count": null,
   "metadata": {},
   "outputs": [],
   "source": [
    "## your code goes here"
>>>>>>> f46ad7e245b0f1283dce3e5aed3b58a9252f9bd0
   ]
  },
  {
   "cell_type": "markdown",
   "metadata": {},
   "source": [
<<<<<<< HEAD
    "**Your Interpretation:** \n",
    "As expected given the climate of the northern hemisphere, the temperatures are much higher during the summer months with temperatures around 70 degree as oppose to the winter months where it ranges from 30 to 40 degrees. \n"
=======
    "**Your Interpretation:** TODO"
>>>>>>> f46ad7e245b0f1283dce3e5aed3b58a9252f9bd0
   ]
  },
  {
   "cell_type": "markdown",
   "metadata": {},
   "source": [
    "### Task 2.3:  Calculate the median of a whole matrix\n",
    "\n",
    "Write a function that calculates and returns the median of a matrix over all values (independent from which row they are coming) and returns it. Provide a written interpretation of your results. Can you use your function from Part 1 and get a valid result?"
   ]
  },
  {
   "cell_type": "code",
<<<<<<< HEAD
   "execution_count": 23,
   "metadata": {},
   "outputs": [],
   "source": [
    "## your code goes here\n",
    "def medMat(matrix):\n",
    "    #srt = sorted(matrix)  \n",
    "    listing = []\n",
    "    for mat in matrix:\n",
    "        for value in mat:\n",
    "            listing.append(value)\n",
    "    rt = sorted(listing)\n",
    "    middle = len(rt)//2\n",
    "    # return rt ; Uncomemnt this just to ensure the sorting works\n",
    "    if(len(rt)) % 2:  # Od11d\n",
    "        return rt[middle]\n",
    "    else:\n",
    "        med = (rt[middle] + rt[middle-1]) / 2   # this grabs those two values and adds them and dvides them by 2 for mean\n",
    "        return med"
=======
   "execution_count": null,
   "metadata": {},
   "outputs": [],
   "source": [
    "## your code goes here"
>>>>>>> f46ad7e245b0f1283dce3e5aed3b58a9252f9bd0
   ]
  },
  {
   "cell_type": "code",
<<<<<<< HEAD
   "execution_count": 24,
   "metadata": {},
   "outputs": [
    {
     "data": {
      "text/plain": [
       "57"
      ]
     },
     "execution_count": 24,
     "metadata": {},
     "output_type": "execute_result"
    }
   ],
   "source": [
    "medMat(temperature_matrix)"
=======
   "execution_count": null,
   "metadata": {},
   "outputs": [],
   "source": [
    "np.median(flat_data)"
>>>>>>> f46ad7e245b0f1283dce3e5aed3b58a9252f9bd0
   ]
  },
  {
   "cell_type": "markdown",
   "metadata": {},
   "source": [
<<<<<<< HEAD
    "**Your Interpretation:** The median value of the entire temperature for snowbird is 57 degrees farenheit. "
=======
    "**Your Interpretation:** TODO"
>>>>>>> f46ad7e245b0f1283dce3e5aed3b58a9252f9bd0
   ]
  },
  {
   "cell_type": "markdown",
   "metadata": {},
   "source": [
    "### Task 2.4: Calculate the median of each vector of a matrix\n",
    "\n",
    "Write a function that calculates the median of each sub array (i.e. each column in the csv file) in the matrix and returns an array of medians (one entry for column in the csv file). To do so, use the function you implemented in Part 1. Provide a written interpretation of your results. "
   ]
  },
  {
   "cell_type": "code",
<<<<<<< HEAD
   "execution_count": 25,
   "metadata": {},
   "outputs": [],
   "source": [
    "## your code goes here\n",
    "def med(matrix):\n",
    "    listing = []\n",
    "    for vector in matrix:\n",
    "        srt = sorted(vector)\n",
    "        middle = len(vector)//2\n",
    "        if len(vector) %2:\n",
    "            odd = srt[middle]\n",
    "            listing.append(odd)\n",
    "        else:\n",
    "            even = (srt[middle]+srt[middle-1])/2\n",
    "            listing.append(even)\n",
    "    return listing\n",
    "            \n",
    "            \n",
    "    "
   ]
  },
  {
   "cell_type": "code",
   "execution_count": 26,
   "metadata": {},
   "outputs": [
    {
     "data": {
      "text/plain": [
       "[36, 44.0, 51, 53.5, 59, 78.0, 77, 79, 73.0, 62, 40.0, 32]"
      ]
     },
     "execution_count": 26,
     "metadata": {},
     "output_type": "execute_result"
    }
   ],
   "source": [
    "med(temperature_matrix)"
=======
   "execution_count": null,
   "metadata": {},
   "outputs": [],
   "source": [
    "## your code goes here"
>>>>>>> f46ad7e245b0f1283dce3e5aed3b58a9252f9bd0
   ]
  },
  {
   "cell_type": "markdown",
   "metadata": {},
   "source": [
<<<<<<< HEAD
    "**Your Interpretation:**  The median values distribution seems to increase and peak at the middle of the year, then transgresses later on through the year"
=======
    "**Your Interpretation:** TODO"
>>>>>>> f46ad7e245b0f1283dce3e5aed3b58a9252f9bd0
   ]
  },
  {
   "cell_type": "markdown",
   "metadata": {},
   "source": [
    "### Task 2.5: Calculate the standard deviation of a whole matrix\n",
    "\n",
    "Write a function that calculates the standard deviation of a matrix over all values in the matrix (ignoring from which column they were coming) and returns it. Can you use your function from Part 1 and get a valid result? Provide a written interpretation of your results. "
   ]
  },
  {
   "cell_type": "code",
<<<<<<< HEAD
   "execution_count": 149,
   "metadata": {},
   "outputs": [],
   "source": [
    "## your code goes here\n",
    "\n",
    "## your code goes here\n",
    "\n",
    "def stde(matrix):\n",
    "    #mean first\n",
    "    numbers = []\n",
    "    for vector in matrix:\n",
    "        for values in vector:\n",
    "            numbers.append(values)\n",
    "    sum = 0\n",
    "    for vals in numbers:\n",
    "        sum+= vals\n",
    "    mean = sum / len(numbers)  \n",
    "    sqlist = []               \n",
    "    for num in numbers:\n",
    "        subtr = (num - mean)**2 \n",
    "        sqlist.append(subtr)\n",
    "    summing = 0                 \n",
    "    for s in sqlist:\n",
    "        summing += s\n",
    "        meanSTD = summing / len(sqlist)\n",
    "    return meanSTD**(1/2)\n",
    "\n",
    "        \n",
    "    \n",
    "    \n",
    "\n"
   ]
  },
  {
   "cell_type": "code",
   "execution_count": 150,
   "metadata": {},
   "outputs": [
    {
     "data": {
      "text/plain": [
       "17.908994103709954"
      ]
     },
     "execution_count": 150,
     "metadata": {},
     "output_type": "execute_result"
    }
   ],
   "source": [
    "stde(temperature_matrix)"
=======
   "execution_count": null,
   "metadata": {},
   "outputs": [],
   "source": [
    "## your code goes here"
>>>>>>> f46ad7e245b0f1283dce3e5aed3b58a9252f9bd0
   ]
  },
  {
   "cell_type": "code",
<<<<<<< HEAD
   "execution_count": 151,
   "metadata": {},
   "outputs": [
    {
     "data": {
      "text/plain": [
       "17.908994103709954"
      ]
     },
     "execution_count": 151,
     "metadata": {},
     "output_type": "execute_result"
    }
   ],
   "source": [
    "# Check\n",
    "np.std(flat_data)\n",
    "#print(temperature_matrix)"
=======
   "execution_count": null,
   "metadata": {},
   "outputs": [],
   "source": [
    "# Check\n",
    "np.std(flat_data)"
>>>>>>> f46ad7e245b0f1283dce3e5aed3b58a9252f9bd0
   ]
  },
  {
   "cell_type": "markdown",
   "metadata": {},
   "source": [
<<<<<<< HEAD
    "**Your Interpretation:** The standard devation of the temperature dataset throughout the 12 months is 17.98 degrees farenheit."
=======
    "**Your Interpretation:** TODO"
>>>>>>> f46ad7e245b0f1283dce3e5aed3b58a9252f9bd0
   ]
  },
  {
   "cell_type": "markdown",
   "metadata": {},
   "source": [
    "### Task 2.6: Calculate the standard deviation of each vector of a matrix\n",
    "\n",
    "Write a function that calculates the standard deviation of each array in the matrix and returns an array of standard deviations (one standard deviation for each column). To do so, use the function you implemented in Part 1. \n",
    "Pass in the matrix with the temperature data and return the result. Provide a written interpretation of your results - is the standard deviation consistent across the seasons? "
   ]
  },
  {
   "cell_type": "code",
<<<<<<< HEAD
   "execution_count": 152,
   "metadata": {},
   "outputs": [],
   "source": [
    "## your code goes here\n",
    "def st(matrix):\n",
    "    list = []\n",
    "    for mat in matrix:\n",
    "        standard = standardDev(mat)\n",
    "        list.append(standard)\n",
    "    return list\n",
    "    \n",
    "        \n",
    "\n"
   ]
  },
  {
   "cell_type": "code",
   "execution_count": 153,
   "metadata": {},
   "outputs": [
    {
     "data": {
      "text/plain": [
       "[6.5047809200539595,\n",
       " 7.343868051591318,\n",
       " 8.263229231729458,\n",
       " 6.923791511078947,\n",
       " 6.272679973334109,\n",
       " 6.535713852025312,\n",
       " 5.020872148142359,\n",
       " 4.666617114845193,\n",
       " 7.552850823070421,\n",
       " 6.937959048194395,\n",
       " 8.715822138820615,\n",
       " 8.96890222245524]"
      ]
     },
     "execution_count": 153,
     "metadata": {},
     "output_type": "execute_result"
    }
   ],
   "source": [
    "st(temperature_matrix)"
=======
   "execution_count": null,
   "metadata": {},
   "outputs": [],
   "source": [
    "## your code goes here"
>>>>>>> f46ad7e245b0f1283dce3e5aed3b58a9252f9bd0
   ]
  },
  {
   "cell_type": "markdown",
   "metadata": {},
   "source": [
<<<<<<< HEAD
    "**Your Interpretation:** The variation among the standard deviation values seems to not have a pattern. One thing note is that the most variation comes in within the winter which is something to note here. "
=======
    "**Your Interpretation:** TODO"
>>>>>>> f46ad7e245b0f1283dce3e5aed3b58a9252f9bd0
   ]
  },
  {
   "cell_type": "markdown",
   "metadata": {},
   "source": [
    "## Part 3: Poisson distribution \n",
    "\n",
    "In class, we looked at [Bernoulli](https://en.wikipedia.org/wiki/Bernoulli_distribution) and [binomial](https://en.wikipedia.org/wiki/Binomial_distribution) discrete random variables. Another example of a discrete random variable is a *Poisson random variable*. \n",
    "\n",
    "Read the [wikipedia article on the Poisson distribution](https://en.wikipedia.org/wiki/Poisson_distribution)\n",
    "\n",
    "### Part 3.1. Descriptive statistics\n",
    "\n",
    "Describe what a Poisson random variable is. What is the parameter, $\\lambda$? What is the min, max, mean, and variance of a Poisson random variable? "
   ]
  },
  {
   "cell_type": "markdown",
   "metadata": {},
   "source": [
    "**Your description:** TODO"
   ]
  },
  {
   "cell_type": "markdown",
   "metadata": {},
   "source": [
<<<<<<< HEAD
    "<b>Poisson random variable</b>: This refers to the number of successes that occur within a dsitribution\\\n",
    "<b> parameter,  𝜆 ? </b>: It is set to the number of x, which is the number of success within a specified range, and also set to its variance\\\n",
    "<b> Min, Max, Variable(Poisson Random Variable)</b>: The minimum value would denote the least possible number of events occuring within a specific limit/space while max emphasis the most possible number of successes given specific limit/space. The vatriance is the range of possible successes given the specific limit/space.  "
   ]
  },
  {
   "cell_type": "markdown",
   "metadata": {},
   "source": [
=======
>>>>>>> f46ad7e245b0f1283dce3e5aed3b58a9252f9bd0
    "### Part 3.2. Example \n",
    "\n",
    "Give an example of an application that is described by a Poisson random variable."
   ]
  },
  {
   "cell_type": "markdown",
   "metadata": {},
   "source": [
<<<<<<< HEAD
    "**Your description:**  In the science of Remote Sensing, we are focused with identifying certain process that occur on Earth like Hurricanes, Fires, oil spills, etc from satelittle/airbourne imagery. One example of a Poisson Random Variable is the probability of an imagery with a pixel detecting fire occurs given the specifications of the instrument that took the image.  "
=======
    "**Your description:** TODO"
>>>>>>> f46ad7e245b0f1283dce3e5aed3b58a9252f9bd0
   ]
  },
  {
   "cell_type": "markdown",
   "metadata": {},
<<<<<<< HEAD
   "source": []
  },
  {
   "cell_type": "markdown",
   "metadata": {},
=======
>>>>>>> f46ad7e245b0f1283dce3e5aed3b58a9252f9bd0
   "source": [
    "### Part 3.3. Probability mass function\n",
    "\n",
    "For the parameter $\\lambda = 2$, plot the probability mass function. "
   ]
  },
  {
   "cell_type": "code",
<<<<<<< HEAD
   "execution_count": 37,
   "metadata": {},
   "outputs": [],
   "source": [
    "import scipy as sc\n",
    "\n",
    "from scipy.stats import bernoulli, binom, norm, poisson\n"
   ]
  },
  {
   "cell_type": "code",
   "execution_count": 61,
   "metadata": {},
   "outputs": [
    {
     "data": {
      "image/png": "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\n",
      "text/plain": [
       "<Figure size 432x288 with 1 Axes>"
      ]
     },
     "metadata": {
      "needs_background": "light"
     },
     "output_type": "display_data"
    }
   ],
   "source": [
    "p = 0.5\n",
    "n = 2\n",
    "\n",
    "\n",
    "f = lambda k: poisson.pmf(k, mu= p, loc=n)\n",
    "x = sc.arange(n+1);\n",
    "plt.plot(x, f(x),'')\n",
    "plt.title(\"Probability mass function for a Binomial random variable\")\n",
    "plt.xlim([0,2.1])\n",
    "plt.show()"
=======
   "execution_count": null,
   "metadata": {},
   "outputs": [],
   "source": [
    "# your code"
>>>>>>> f46ad7e245b0f1283dce3e5aed3b58a9252f9bd0
   ]
  },
  {
   "cell_type": "markdown",
   "metadata": {},
   "source": [
    "### Part 3.4. Poission sampling\n",
    "\n",
    "Write python code that takes 1000 samples from the Poisson distribution with parameter $\\lambda = 2$. Make a histogram of the samples and compute the sample mean and variance. How does the histogram compare to the probability mass function?"
   ]
  },
  {
   "cell_type": "code",
<<<<<<< HEAD
   "execution_count": 157,
   "metadata": {},
   "outputs": [
    {
     "data": {
      "image/png": "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\n",
      "text/plain": [
       "<Figure size 432x288 with 1 Axes>"
      ]
     },
     "metadata": {
      "needs_background": "light"
     },
     "output_type": "display_data"
    },
    {
     "name": "stdout",
     "output_type": "stream",
     "text": [
      "1.998\n",
      "1.4021397933159143\n"
     ]
    }
   ],
   "source": [
    "samples = np.random.poisson(lam = 2, size = 1000)   # 1000 samples from poisson distribution\n",
    "\n",
    "import matplotlib.pyplot as plt\n",
    "count, bins, ignored = plt.hist(samples, density=True)\n",
    "plt.show()\n",
    "\n",
    "#s = np.random.poisson(lam=(100., 500.), size=(100, 2)) \n",
    "\n",
    "print(np.mean(samples))\n",
    "print(standardDev(samples))\n"
=======
   "execution_count": null,
   "metadata": {},
   "outputs": [],
   "source": [
    "# your code"
>>>>>>> f46ad7e245b0f1283dce3e5aed3b58a9252f9bd0
   ]
  },
  {
   "cell_type": "markdown",
   "metadata": {},
   "source": [
<<<<<<< HEAD
    "**Your description:** The way the PMF compares to the histogram is that PMF shows the probability of a set occurences to happen, which varies even though one would assume an equal probability. Histograms display the probabilities of those frequencies. In this case we see that both show a different possibility for a parameter of 2."
   ]
  },
  {
   "cell_type": "code",
   "execution_count": null,
   "metadata": {},
   "outputs": [],
   "source": []
=======
    "**Your description:** TODO"
   ]
>>>>>>> f46ad7e245b0f1283dce3e5aed3b58a9252f9bd0
  }
 ],
 "metadata": {
  "anaconda-cloud": {},
  "kernelspec": {
   "display_name": "Python 3",
   "language": "python",
   "name": "python3"
  },
  "language_info": {
   "codemirror_mode": {
    "name": "ipython",
    "version": 3
   },
   "file_extension": ".py",
   "mimetype": "text/x-python",
   "name": "python",
   "nbconvert_exporter": "python",
   "pygments_lexer": "ipython3",
<<<<<<< HEAD
   "version": "3.7.4"
=======
   "version": "3.7.5"
>>>>>>> f46ad7e245b0f1283dce3e5aed3b58a9252f9bd0
  }
 },
 "nbformat": 4,
 "nbformat_minor": 1
}
